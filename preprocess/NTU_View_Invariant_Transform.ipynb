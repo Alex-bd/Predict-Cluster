{
 "cells": [
  {
   "cell_type": "code",
   "execution_count": null,
   "metadata": {},
   "outputs": [],
   "source": [
    "import numpy as np"
   ]
  },
  {
   "cell_type": "code",
   "execution_count": null,
   "metadata": {},
   "outputs": [],
   "source": [
    "def new_process(raw_data):\n",
    "    transform_data = []\n",
    "    for data in raw_data:\n",
    "        trans_data = ntu_tranform_skeleton(data['input'])\n",
    "        transform_data.append({'label': data['label'], 'input': trans_data})\n",
    "    return transform_data"
   ]
  },
  {
   "cell_type": "code",
   "execution_count": null,
   "metadata": {},
   "outputs": [],
   "source": [
    "def ntu_tranform_skeleton(test):\n",
    "    \"\"\"\n",
    "    :param test: frames of skeleton within a video sample\n",
    "    \"\"\"\n",
    "    remove_frame = False\n",
    "    test = np.asarray(test)\n",
    "    transform_test = []\n",
    "    \n",
    "    d = test[0,0:3]\n",
    "    \n",
    "    v1 = test[0,1*3:1*3+3]-test[0,0*3:0*3+3]\n",
    "    v1 = v1/np.linalg.norm(v1)\n",
    "    \n",
    "    v2_ = test[0,12*3:12*3+3]-test[0,16*3:16*3+3]\n",
    "    proj_v2_v1 = np.dot(v1.T,v2_)*v1/np.linalg.norm(v1)\n",
    "    v2 = v2_-np.squeeze(proj_v2_v1)\n",
    "    v2 = v2/np.linalg.norm(v2)\n",
    "    \n",
    "    v3 = np.cross(v2,v1)/np.linalg.norm(np.cross(v2,v1))\n",
    "    \n",
    "    v1 = np.reshape(v1,(3,1))\n",
    "    v2 = np.reshape(v2,(3,1))\n",
    "    v3 = np.reshape(v3,(3,1))\n",
    "    \n",
    "    R = np.hstack([v2,v3,v1])\n",
    "    \n",
    "    for i in range(test.shape[0]):\n",
    "        xyzs = []\n",
    "        for j in range(25):\n",
    "            if test[i][j*3:j*3+3].all()==0:\n",
    "                remove_frame = True\n",
    "                break\n",
    "            xyz = np.squeeze(np.matmul(np.linalg.inv(R),np.reshape(test[i][j*3:j*3+3]-d,(3,1))))\n",
    "            xyzs.append(xyz)\n",
    "        if not remove_frame:\n",
    "            xyzs = np.reshape(np.asarray(xyzs),(-1,75))\n",
    "            transform_test.append(xyzs)\n",
    "        else:\n",
    "            remove_frame = False\n",
    "    \n",
    "    transform_test = np.squeeze(np.asarray(transform_test))\n",
    "    return transform_test.tolist()"
   ]
  },
  {
   "cell_type": "markdown",
   "metadata": {},
   "source": [
    "## Example: Load data before View Invariant Transform"
   ]
  },
  {
   "cell_type": "code",
   "execution_count": null,
   "metadata": {},
   "outputs": [],
   "source": [
    "import pickle\n",
    "with open(\"/home/neuralnet/NTU_60/cross_subject_data/raw_train_data.pkl\", \"rb\") as fin:\n",
    "    train_crs = pickle.load(fin)\n",
    "with open(\"/home/neuralnet/NTU_60/cross_subject_data/raw_test_data.pkl\", \"rb\") as fin:\n",
    "    test_crs = pickle.load(fin)"
   ]
  },
  {
   "cell_type": "markdown",
   "metadata": {},
   "source": [
    "## Example: Transform and Save"
   ]
  },
  {
   "cell_type": "code",
   "execution_count": null,
   "metadata": {},
   "outputs": [],
   "source": [
    "trans_train_crs = new_process(train_crs)\n",
    "with open(\"/home/neuralnet/NTU_60/cross_subject_data/trans_train_data.pkl\", \"wb\") as fout:\n",
    "    pickle.dump(trans_train_crs, fout)\n",
    "trans_test_crs = new_process(test_crs)\n",
    "with open(\"/home/neuralnet/NTU_60/cross_subject_data/trans_test_data.pkl\", \"wb\") as fout:\n",
    "    pickle.dump(trans_test_crs, fout)"
   ]
  }
 ],
 "metadata": {
  "kernelspec": {
   "display_name": "Python 3",
   "language": "python",
   "name": "python3"
  },
  "language_info": {
   "codemirror_mode": {
    "name": "ipython",
    "version": 3
   },
   "file_extension": ".py",
   "mimetype": "text/x-python",
   "name": "python",
   "nbconvert_exporter": "python",
   "pygments_lexer": "ipython3",
   "version": "3.7.4"
  }
 },
 "nbformat": 4,
 "nbformat_minor": 2
}
